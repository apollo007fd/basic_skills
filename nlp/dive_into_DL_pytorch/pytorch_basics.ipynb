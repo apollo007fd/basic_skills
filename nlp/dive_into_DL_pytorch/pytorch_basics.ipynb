{
 "cells": [
  {
   "cell_type": "code",
   "execution_count": 1,
   "metadata": {},
   "outputs": [],
   "source": [
    "import torch"
   ]
  },
  {
   "cell_type": "markdown",
   "metadata": {},
   "source": [
    "# 1. tensor的基本操作  \n",
    "## 1.1 创建tensor"
   ]
  },
  {
   "cell_type": "code",
   "execution_count": 2,
   "metadata": {},
   "outputs": [],
   "source": [
    "tensor_ept = torch.empty(5, 3)  # 创建一个未初始化的tensor"
   ]
  },
  {
   "cell_type": "code",
   "execution_count": 3,
   "metadata": {},
   "outputs": [
    {
     "data": {
      "text/plain": [
       "tensor([[-1.7545e+25,  4.5555e-41, -1.7545e+25],\n",
       "        [ 4.5555e-41, -1.7545e+25,  4.5555e-41],\n",
       "        [-1.7545e+25,  4.5555e-41, -1.7545e+25],\n",
       "        [ 4.5555e-41, -1.7576e+25,  4.5555e-41],\n",
       "        [-1.7545e+25,  4.5555e-41, -1.7545e+25]])"
      ]
     },
     "execution_count": 3,
     "metadata": {},
     "output_type": "execute_result"
    }
   ],
   "source": [
    "tensor_ept"
   ]
  },
  {
   "cell_type": "code",
   "execution_count": 4,
   "metadata": {},
   "outputs": [],
   "source": [
    "tensor_rdm = torch.rand(5, 3)  # 创建一个随机初始化的tensor"
   ]
  },
  {
   "cell_type": "code",
   "execution_count": 5,
   "metadata": {},
   "outputs": [
    {
     "data": {
      "text/plain": [
       "tensor([[0.0406, 0.0515, 0.2540],\n",
       "        [0.7091, 0.3406, 0.0727],\n",
       "        [0.6435, 0.7606, 0.0952],\n",
       "        [0.4913, 0.1347, 0.0233],\n",
       "        [0.8739, 0.4126, 0.6497]])"
      ]
     },
     "execution_count": 5,
     "metadata": {},
     "output_type": "execute_result"
    }
   ],
   "source": [
    "tensor_rdm"
   ]
  },
  {
   "cell_type": "code",
   "execution_count": 6,
   "metadata": {},
   "outputs": [],
   "source": [
    "tensor_zero = torch.zeros(5, 3)  # 创建一个全0的tensor"
   ]
  },
  {
   "cell_type": "code",
   "execution_count": 7,
   "metadata": {},
   "outputs": [
    {
     "data": {
      "text/plain": [
       "tensor([[0., 0., 0.],\n",
       "        [0., 0., 0.],\n",
       "        [0., 0., 0.],\n",
       "        [0., 0., 0.],\n",
       "        [0., 0., 0.]])"
      ]
     },
     "execution_count": 7,
     "metadata": {},
     "output_type": "execute_result"
    }
   ],
   "source": [
    "tensor_zero"
   ]
  },
  {
   "cell_type": "code",
   "execution_count": 8,
   "metadata": {},
   "outputs": [],
   "source": [
    "tensor_from_float = torch.tensor([5.5, 3])   # 直接根据list创建tensor"
   ]
  },
  {
   "cell_type": "code",
   "execution_count": 9,
   "metadata": {},
   "outputs": [
    {
     "data": {
      "text/plain": [
       "tensor([5.5000, 3.0000])"
      ]
     },
     "execution_count": 9,
     "metadata": {},
     "output_type": "execute_result"
    }
   ],
   "source": [
    "tensor_from_float"
   ]
  },
  {
   "cell_type": "code",
   "execution_count": 10,
   "metadata": {},
   "outputs": [],
   "source": [
    "tensor_new = torch.randn_like(tensor_zero, dtype=torch.float) # 创建与现有tensor size相同的新tensor, 可指定dtype"
   ]
  },
  {
   "cell_type": "code",
   "execution_count": 11,
   "metadata": {},
   "outputs": [
    {
     "data": {
      "text/plain": [
       "tensor([[-0.8328, -0.5674,  1.1909],\n",
       "        [-0.0108, -0.7823,  0.0167],\n",
       "        [ 0.5623, -0.0707, -1.1678],\n",
       "        [-0.3866,  1.6267, -1.0789],\n",
       "        [-0.7188, -1.8883, -1.1476]])"
      ]
     },
     "execution_count": 11,
     "metadata": {},
     "output_type": "execute_result"
    }
   ],
   "source": [
    "tensor_new"
   ]
  },
  {
   "cell_type": "markdown",
   "metadata": {},
   "source": [
    "还有很多函数可以创建tensor，可以翻翻官网api就知道了。一般在创建tensor的时候，都可以指定数据类型dtype和存放device(cpu/gpu)"
   ]
  },
  {
   "cell_type": "markdown",
   "metadata": {},
   "source": [
    "## 1.2 tensor的基本操作"
   ]
  },
  {
   "cell_type": "markdown",
   "metadata": {},
   "source": [
    "### 1.2.1 tensor size   \n",
    "tensor.size()和tensor.shape，都能获取tensor.Size; 它们的返回值可视为一个tuple,支持所有tuple的操作"
   ]
  },
  {
   "cell_type": "code",
   "execution_count": 12,
   "metadata": {},
   "outputs": [
    {
     "data": {
      "text/plain": [
       "torch.Size([5, 3])"
      ]
     },
     "execution_count": 12,
     "metadata": {},
     "output_type": "execute_result"
    }
   ],
   "source": [
    "tensor_rdm.size()"
   ]
  },
  {
   "cell_type": "code",
   "execution_count": 13,
   "metadata": {},
   "outputs": [
    {
     "data": {
      "text/plain": [
       "torch.Size([5, 3])"
      ]
     },
     "execution_count": 13,
     "metadata": {},
     "output_type": "execute_result"
    }
   ],
   "source": [
    "tensor_rdm.shape"
   ]
  },
  {
   "cell_type": "code",
   "execution_count": 14,
   "metadata": {},
   "outputs": [
    {
     "data": {
      "text/plain": [
       "5"
      ]
     },
     "execution_count": 14,
     "metadata": {},
     "output_type": "execute_result"
    }
   ],
   "source": [
    "tensor_rdm.size()[0]"
   ]
  },
  {
   "cell_type": "code",
   "execution_count": 15,
   "metadata": {},
   "outputs": [
    {
     "data": {
      "text/plain": [
       "3"
      ]
     },
     "execution_count": 15,
     "metadata": {},
     "output_type": "execute_result"
    }
   ],
   "source": [
    "tensor_rdm.size()[1]"
   ]
  },
  {
   "cell_type": "markdown",
   "metadata": {},
   "source": [
    "### 1.2.2 算术运算"
   ]
  },
  {
   "cell_type": "markdown",
   "metadata": {},
   "source": [
    "#### 1.2.2.1 加法运算  \n",
    "tensor加法有3种形式:  \n",
    "1. 直接相加  \n",
    "2. 用torch.add(), 用torch.add()还能指定将结果输出到某个tensor  \n",
    "3. inplace加法， Pytorch操作inplace版本都有后缀\"_\"， 如x.add_(y)"
   ]
  },
  {
   "cell_type": "code",
   "execution_count": 16,
   "metadata": {},
   "outputs": [],
   "source": [
    "x = torch.ones(5,3)\n",
    "y = torch.randn(5,3, dtype=torch.float)"
   ]
  },
  {
   "cell_type": "code",
   "execution_count": 17,
   "metadata": {},
   "outputs": [
    {
     "data": {
      "text/plain": [
       "tensor([[1., 1., 1.],\n",
       "        [1., 1., 1.],\n",
       "        [1., 1., 1.],\n",
       "        [1., 1., 1.],\n",
       "        [1., 1., 1.]])"
      ]
     },
     "execution_count": 17,
     "metadata": {},
     "output_type": "execute_result"
    }
   ],
   "source": [
    "x"
   ]
  },
  {
   "cell_type": "code",
   "execution_count": 18,
   "metadata": {},
   "outputs": [
    {
     "data": {
      "text/plain": [
       "tensor([[-0.9353, -0.6979, -0.5798],\n",
       "        [-0.1747,  1.8433,  0.5609],\n",
       "        [ 1.0845,  0.7375, -1.0634],\n",
       "        [ 0.4117,  0.3009,  0.4417],\n",
       "        [-1.0128, -0.3878, -1.6618]])"
      ]
     },
     "execution_count": 18,
     "metadata": {},
     "output_type": "execute_result"
    }
   ],
   "source": [
    "y"
   ]
  },
  {
   "cell_type": "code",
   "execution_count": 19,
   "metadata": {},
   "outputs": [
    {
     "data": {
      "text/plain": [
       "tensor([[ 0.0647,  0.3021,  0.4202],\n",
       "        [ 0.8253,  2.8433,  1.5609],\n",
       "        [ 2.0845,  1.7375, -0.0634],\n",
       "        [ 1.4117,  1.3009,  1.4417],\n",
       "        [-0.0128,  0.6122, -0.6618]])"
      ]
     },
     "execution_count": 19,
     "metadata": {},
     "output_type": "execute_result"
    }
   ],
   "source": [
    "x + y"
   ]
  },
  {
   "cell_type": "code",
   "execution_count": 20,
   "metadata": {},
   "outputs": [
    {
     "data": {
      "text/plain": [
       "tensor([[ 0.0647,  0.3021,  0.4202],\n",
       "        [ 0.8253,  2.8433,  1.5609],\n",
       "        [ 2.0845,  1.7375, -0.0634],\n",
       "        [ 1.4117,  1.3009,  1.4417],\n",
       "        [-0.0128,  0.6122, -0.6618]])"
      ]
     },
     "execution_count": 20,
     "metadata": {},
     "output_type": "execute_result"
    }
   ],
   "source": [
    "torch.add(x, y)"
   ]
  },
  {
   "cell_type": "code",
   "execution_count": 21,
   "metadata": {},
   "outputs": [],
   "source": [
    "result = torch.empty(5,3)"
   ]
  },
  {
   "cell_type": "code",
   "execution_count": 22,
   "metadata": {},
   "outputs": [
    {
     "data": {
      "text/plain": [
       "tensor([[ 0.0647,  0.3021,  0.4202],\n",
       "        [ 0.8253,  2.8433,  1.5609],\n",
       "        [ 2.0845,  1.7375, -0.0634],\n",
       "        [ 1.4117,  1.3009,  1.4417],\n",
       "        [-0.0128,  0.6122, -0.6618]])"
      ]
     },
     "execution_count": 22,
     "metadata": {},
     "output_type": "execute_result"
    }
   ],
   "source": [
    "torch.add(x, y, out=result)"
   ]
  },
  {
   "cell_type": "code",
   "execution_count": 23,
   "metadata": {},
   "outputs": [
    {
     "data": {
      "text/plain": [
       "tensor([[ 0.0647,  0.3021,  0.4202],\n",
       "        [ 0.8253,  2.8433,  1.5609],\n",
       "        [ 2.0845,  1.7375, -0.0634],\n",
       "        [ 1.4117,  1.3009,  1.4417],\n",
       "        [-0.0128,  0.6122, -0.6618]])"
      ]
     },
     "execution_count": 23,
     "metadata": {},
     "output_type": "execute_result"
    }
   ],
   "source": [
    "result"
   ]
  },
  {
   "cell_type": "code",
   "execution_count": 24,
   "metadata": {},
   "outputs": [
    {
     "data": {
      "text/plain": [
       "tensor([[ 0.0647,  0.3021,  0.4202],\n",
       "        [ 0.8253,  2.8433,  1.5609],\n",
       "        [ 2.0845,  1.7375, -0.0634],\n",
       "        [ 1.4117,  1.3009,  1.4417],\n",
       "        [-0.0128,  0.6122, -0.6618]])"
      ]
     },
     "execution_count": 24,
     "metadata": {},
     "output_type": "execute_result"
    }
   ],
   "source": [
    "x.add_(y)"
   ]
  },
  {
   "cell_type": "code",
   "execution_count": 25,
   "metadata": {},
   "outputs": [
    {
     "data": {
      "text/plain": [
       "tensor([[ 0.0647,  0.3021,  0.4202],\n",
       "        [ 0.8253,  2.8433,  1.5609],\n",
       "        [ 2.0845,  1.7375, -0.0634],\n",
       "        [ 1.4117,  1.3009,  1.4417],\n",
       "        [-0.0128,  0.6122, -0.6618]])"
      ]
     },
     "execution_count": 25,
     "metadata": {},
     "output_type": "execute_result"
    }
   ],
   "source": [
    "x"
   ]
  },
  {
   "cell_type": "markdown",
   "metadata": {},
   "source": [
    "减法、乘法、除法参考官网api"
   ]
  },
  {
   "cell_type": "markdown",
   "metadata": {},
   "source": [
    "### 1.2.3 索引  \n",
    "操作tensor与操作np.array类似，与np.array不同的是，tensor索引出来的结果与原数据共享内存单元。"
   ]
  },
  {
   "cell_type": "code",
   "execution_count": 26,
   "metadata": {},
   "outputs": [
    {
     "data": {
      "text/plain": [
       "tensor([[ 0.0647,  0.3021,  0.4202],\n",
       "        [ 0.8253,  2.8433,  1.5609],\n",
       "        [ 2.0845,  1.7375, -0.0634],\n",
       "        [ 1.4117,  1.3009,  1.4417],\n",
       "        [-0.0128,  0.6122, -0.6618]])"
      ]
     },
     "execution_count": 26,
     "metadata": {},
     "output_type": "execute_result"
    }
   ],
   "source": [
    "x"
   ]
  },
  {
   "cell_type": "code",
   "execution_count": 27,
   "metadata": {},
   "outputs": [],
   "source": [
    "y = x[:1, :]"
   ]
  },
  {
   "cell_type": "code",
   "execution_count": 28,
   "metadata": {},
   "outputs": [
    {
     "data": {
      "text/plain": [
       "tensor([[0.0647, 0.3021, 0.4202]])"
      ]
     },
     "execution_count": 28,
     "metadata": {},
     "output_type": "execute_result"
    }
   ],
   "source": [
    "y"
   ]
  },
  {
   "cell_type": "code",
   "execution_count": 29,
   "metadata": {},
   "outputs": [],
   "source": [
    "y += 1  # 修改y, x也会变"
   ]
  },
  {
   "cell_type": "code",
   "execution_count": 30,
   "metadata": {},
   "outputs": [
    {
     "data": {
      "text/plain": [
       "tensor([[1.0647, 1.3021, 1.4202]])"
      ]
     },
     "execution_count": 30,
     "metadata": {},
     "output_type": "execute_result"
    }
   ],
   "source": [
    "y"
   ]
  },
  {
   "cell_type": "code",
   "execution_count": 31,
   "metadata": {},
   "outputs": [
    {
     "data": {
      "text/plain": [
       "tensor([[ 1.0647,  1.3021,  1.4202],\n",
       "        [ 0.8253,  2.8433,  1.5609],\n",
       "        [ 2.0845,  1.7375, -0.0634],\n",
       "        [ 1.4117,  1.3009,  1.4417],\n",
       "        [-0.0128,  0.6122, -0.6618]])"
      ]
     },
     "execution_count": 31,
     "metadata": {},
     "output_type": "execute_result"
    }
   ],
   "source": [
    "x"
   ]
  },
  {
   "cell_type": "markdown",
   "metadata": {},
   "source": [
    "还有一些索引高级的索引函数，参考pytorch官网api"
   ]
  },
  {
   "cell_type": "markdown",
   "metadata": {},
   "source": [
    "### 1.2.4 改变形状\n",
    "用view来改变tensor形状, (python的id()函数：如果两个实例的id一致，那么它们所对应的内存地址相同；反之不同)"
   ]
  },
  {
   "cell_type": "code",
   "execution_count": 32,
   "metadata": {},
   "outputs": [
    {
     "name": "stdout",
     "output_type": "stream",
     "text": [
      "tensor([ 1.0647,  1.3021,  1.4202,  0.8253,  2.8433,  1.5609,  2.0845,  1.7375,\n",
      "        -0.0634,  1.4117,  1.3009,  1.4417, -0.0128,  0.6122, -0.6618])\n",
      "torch.Size([15])\n",
      "139628656807080\n",
      "139626750739152\n"
     ]
    }
   ],
   "source": [
    "y = x.view(15)\n",
    "print(y)\n",
    "print(y.shape)\n",
    "print(id(y))\n",
    "print(id(x))"
   ]
  },
  {
   "cell_type": "code",
   "execution_count": 33,
   "metadata": {},
   "outputs": [
    {
     "name": "stdout",
     "output_type": "stream",
     "text": [
      "tensor([[ 1.0647,  1.3021,  1.4202,  0.8253,  2.8433],\n",
      "        [ 1.5609,  2.0845,  1.7375, -0.0634,  1.4117],\n",
      "        [ 1.3009,  1.4417, -0.0128,  0.6122, -0.6618]])\n",
      "torch.Size([3, 5])\n"
     ]
    }
   ],
   "source": [
    "z = x.view(-1, 5)\n",
    "print(z)\n",
    "print(z.size())"
   ]
  },
  {
   "cell_type": "markdown",
   "metadata": {},
   "source": [
    "**注意**：用view()来改变形状，返回的新tensor与源tensor虽然size不同，但共享data,也即其中一个改变，另一个也会跟着改变。（view只改变了对这个张量的观察角度，内部数据并未改变）,虽然新老tensor共享data，但它们是不同实例，id不一致(因为tensor除了包含data外还有一些其他属性)"
   ]
  },
  {
   "cell_type": "code",
   "execution_count": 34,
   "metadata": {},
   "outputs": [
    {
     "name": "stdout",
     "output_type": "stream",
     "text": [
      "tensor([[2.0647, 2.3021, 2.4202],\n",
      "        [1.8253, 3.8433, 2.5609],\n",
      "        [3.0845, 2.7375, 0.9366],\n",
      "        [2.4117, 2.3009, 2.4417],\n",
      "        [0.9872, 1.6122, 0.3382]])\n",
      "tensor([2.0647, 2.3021, 2.4202, 1.8253, 3.8433, 2.5609, 3.0845, 2.7375, 0.9366,\n",
      "        2.4117, 2.3009, 2.4417, 0.9872, 1.6122, 0.3382])\n"
     ]
    }
   ],
   "source": [
    "x += 1\n",
    "print(x)\n",
    "print(y)"
   ]
  },
  {
   "cell_type": "markdown",
   "metadata": {},
   "source": [
    "如果想返回一个真正新的副本(不共享data)，推荐先用clone()创造一个副本，然后再使用view"
   ]
  },
  {
   "cell_type": "code",
   "execution_count": 35,
   "metadata": {},
   "outputs": [
    {
     "name": "stdout",
     "output_type": "stream",
     "text": [
      "tensor([[ 1.0647,  1.3021,  1.4202],\n",
      "        [ 0.8253,  2.8433,  1.5609],\n",
      "        [ 2.0845,  1.7375, -0.0634],\n",
      "        [ 1.4117,  1.3009,  1.4417],\n",
      "        [-0.0128,  0.6122, -0.6618]])\n",
      "tensor([2.0647, 2.3021, 2.4202, 1.8253, 3.8433, 2.5609, 3.0845, 2.7375, 0.9366,\n",
      "        2.4117, 2.3009, 2.4417, 0.9872, 1.6122, 0.3382])\n"
     ]
    }
   ],
   "source": [
    "x_cp = x.clone().view(15)\n",
    "x -= 1\n",
    "print(x)\n",
    "print(x_cp)"
   ]
  },
  {
   "cell_type": "markdown",
   "metadata": {},
   "source": [
    "**没看懂：** 使用clone还有一个好处是会被记录在计算图中，即梯度回传到副本时也会传到源Tensor"
   ]
  },
  {
   "cell_type": "code",
   "execution_count": 36,
   "metadata": {},
   "outputs": [
    {
     "name": "stdout",
     "output_type": "stream",
     "text": [
      "tensor([1.2106])\n",
      "1.2106033563613892\n"
     ]
    }
   ],
   "source": [
    "x = torch.randn(1)\n",
    "print(x)\n",
    "print(x.item())"
   ]
  },
  {
   "cell_type": "markdown",
   "metadata": {},
   "source": [
    "### 1.2.5 线性代数"
   ]
  },
  {
   "cell_type": "markdown",
   "metadata": {},
   "source": [
    "函数\t功能  \n",
    "trace\t对角线元素之和(矩阵的迹)  \n",
    "diag\t对角线元素  \n",
    "triu/tril\t矩阵的上三角/下三角，可指定偏移量  \n",
    "mm/bmm\t矩阵乘法，batch的矩阵乘法  \n",
    "addmm/addbmm/addmv/addr/baddbmm..\t矩阵运算  \n",
    "t\t转置  \n",
    "dot/cross\t内积/外积  \n",
    "inverse\t求逆矩阵  \n",
    "svd\t奇异值分解  \n",
    "  \n",
    "更多tensor线性代数操作，[参考官网api](https://pytorch.org/docs/stable/tensors.html#)"
   ]
  },
  {
   "cell_type": "markdown",
   "metadata": {},
   "source": [
    "### 1.2.6 广播机制  \n",
    "当对2个形状不同的tensor做按元素运算时，可能会触发广播(broadcasting)机制: 先适当复制元素使这2个tensor形状相同后，再按元素运算"
   ]
  },
  {
   "cell_type": "code",
   "execution_count": 37,
   "metadata": {},
   "outputs": [
    {
     "name": "stdout",
     "output_type": "stream",
     "text": [
      "tensor([[1, 2]])\n",
      "tensor([[1],\n",
      "        [2],\n",
      "        [3]])\n",
      "tensor([[2, 3],\n",
      "        [3, 4],\n",
      "        [4, 5]])\n"
     ]
    }
   ],
   "source": [
    "x = torch.arange(1,3).view(1,2)\n",
    "print(x)\n",
    "y = torch.arange(1,4).view(3,1)\n",
    "print(y)\n",
    "print(x+y) # 将x第一行复制2次，得到(3,2)的新tensor；将y的第1列复制1次，得到(3,2)的tensor;对两个新tensor按元素相加，得到结果"
   ]
  },
  {
   "cell_type": "markdown",
   "metadata": {},
   "source": [
    "### 1.2.7 运算的内存开销  \n",
    "前面说的索引操作不会开辟新的内存空间，而像y = x + y这样的运算是会新开内存的，然后将y指向新内存。"
   ]
  },
  {
   "cell_type": "code",
   "execution_count": 38,
   "metadata": {},
   "outputs": [
    {
     "name": "stdout",
     "output_type": "stream",
     "text": [
      "False\n"
     ]
    }
   ],
   "source": [
    "x = torch.tensor([1,2])\n",
    "y = torch.tensor([3,4])\n",
    "id_before = id(y)\n",
    "y = y + x\n",
    "print(id(y) == id_before)"
   ]
  },
  {
   "cell_type": "markdown",
   "metadata": {},
   "source": [
    "以下4中写法，是inplace的，不会开新内存："
   ]
  },
  {
   "cell_type": "code",
   "execution_count": 39,
   "metadata": {},
   "outputs": [
    {
     "name": "stdout",
     "output_type": "stream",
     "text": [
      "True\n"
     ]
    }
   ],
   "source": [
    "x = torch.tensor([1,2])\n",
    "y = torch.tensor([3,4])\n",
    "id_before = id(y)\n",
    "y[:] = y + x\n",
    "print(id(y) == id_before)"
   ]
  },
  {
   "cell_type": "code",
   "execution_count": 40,
   "metadata": {},
   "outputs": [
    {
     "name": "stdout",
     "output_type": "stream",
     "text": [
      "True\n"
     ]
    }
   ],
   "source": [
    "x = torch.tensor([1,2])\n",
    "y = torch.tensor([3,4])\n",
    "id_before = id(y)\n",
    "y += x\n",
    "print(id(y) == id_before)"
   ]
  },
  {
   "cell_type": "code",
   "execution_count": 41,
   "metadata": {},
   "outputs": [
    {
     "name": "stdout",
     "output_type": "stream",
     "text": [
      "True\n"
     ]
    }
   ],
   "source": [
    "x = torch.tensor([1,2])\n",
    "y = torch.tensor([3,4])\n",
    "id_before = id(y)\n",
    "torch.add(x, y, out=y)\n",
    "print(id(y) == id_before)"
   ]
  },
  {
   "cell_type": "code",
   "execution_count": 42,
   "metadata": {},
   "outputs": [
    {
     "name": "stdout",
     "output_type": "stream",
     "text": [
      "True\n"
     ]
    }
   ],
   "source": [
    "x = torch.tensor([1,2])\n",
    "y = torch.tensor([3,4])\n",
    "id_before = id(y)\n",
    "y.add_(x)\n",
    "print(id(y) == id_before)"
   ]
  },
  {
   "cell_type": "markdown",
   "metadata": {},
   "source": [
    "### 1.2.8 tensor和numpy相互转换\n",
    "1. tensor转numpy数组:tensor.numpy()  \n",
    "2. numpy数组转tensor:torch.from_numpy()  \n",
    "这两个函数所产生的tensor和numpy中的数组共享相同的内存(所以转换速度快)，改变其中一个时，另一个也会改变  \n",
    "将numpy数组转成torch.tensor还有一个方法：torch.tensor()，但该方法总是会进行数据拷贝，返回的tensor和原来的数据不再共享内存"
   ]
  },
  {
   "cell_type": "markdown",
   "metadata": {},
   "source": [
    "#### 1.2.8.1 tensor转numpy数组"
   ]
  },
  {
   "cell_type": "code",
   "execution_count": 43,
   "metadata": {},
   "outputs": [
    {
     "name": "stdout",
     "output_type": "stream",
     "text": [
      "tensor([1., 1., 1., 1., 1.]) [1. 1. 1. 1. 1.]\n"
     ]
    }
   ],
   "source": [
    "a = torch.ones(5)\n",
    "b = a.numpy()\n",
    "print(a, b)"
   ]
  },
  {
   "cell_type": "code",
   "execution_count": 44,
   "metadata": {},
   "outputs": [
    {
     "name": "stdout",
     "output_type": "stream",
     "text": [
      "tensor([2., 2., 2., 2., 2.]) [2. 2. 2. 2. 2.]\n",
      "tensor([3., 3., 3., 3., 3.]) [3. 3. 3. 3. 3.]\n"
     ]
    }
   ],
   "source": [
    "a += 1\n",
    "print(a, b)\n",
    "b += 1\n",
    "print(a, b)"
   ]
  },
  {
   "cell_type": "markdown",
   "metadata": {},
   "source": [
    "#### 1.2.8.2 numpy数组转tensor"
   ]
  },
  {
   "cell_type": "code",
   "execution_count": 45,
   "metadata": {},
   "outputs": [
    {
     "name": "stdout",
     "output_type": "stream",
     "text": [
      "[1. 1. 1. 1. 1.] tensor([1., 1., 1., 1., 1.], dtype=torch.float64)\n"
     ]
    }
   ],
   "source": [
    "import numpy as np\n",
    "a = np.ones(5)\n",
    "b = torch.from_numpy(a)\n",
    "print(a, b)"
   ]
  },
  {
   "cell_type": "code",
   "execution_count": 46,
   "metadata": {},
   "outputs": [
    {
     "name": "stdout",
     "output_type": "stream",
     "text": [
      "[2. 2. 2. 2. 2.] tensor([2., 2., 2., 2., 2.], dtype=torch.float64)\n",
      "[3. 3. 3. 3. 3.] tensor([3., 3., 3., 3., 3.], dtype=torch.float64)\n"
     ]
    }
   ],
   "source": [
    "a += 1\n",
    "print(a, b)\n",
    "b += 1\n",
    "print(a, b)"
   ]
  },
  {
   "cell_type": "code",
   "execution_count": 47,
   "metadata": {},
   "outputs": [
    {
     "name": "stdout",
     "output_type": "stream",
     "text": [
      "[4. 4. 4. 4. 4.] tensor([3., 3., 3., 3., 3.], dtype=torch.float64)\n"
     ]
    }
   ],
   "source": [
    "c = torch.tensor(a)\n",
    "a += 1\n",
    "print(a, c)"
   ]
  },
  {
   "cell_type": "markdown",
   "metadata": {},
   "source": [
    "## 1.3 tensor on GPU"
   ]
  },
  {
   "cell_type": "markdown",
   "metadata": {},
   "source": [
    "### 1.3.1 使用colab学习pytorch"
   ]
  },
  {
   "cell_type": "markdown",
   "metadata": {},
   "source": [
    "colab是谷歌提供的一个免费GPU服务，可以在colab上打开一个.ipynb，运行gpu代码，虽然显存有限，但足够用于学习深度学习。"
   ]
  },
  {
   "attachments": {
    "image.png": {
     "image/png": "[encoded data removed]"
    }
   },
   "cell_type": "markdown",
   "metadata": {},
   "source": [
    "**在colab中配置pytorch gpu学习环境：**  \n",
    "1. 打开一个.ipynb，在代码输入框中输入并运行：  \n",
    "!pip install torch==1.5.0+cu101 torchvision==0.6.0+cu101 -f https://download.pytorch.org/whl/torch_stable.html\n",
    "2. 设置.ipynb支持GPU运算：  \n",
    "修改->笔记本设置->硬件加速->GPU\n",
    "![image.png](attachment:image.png)"
   ]
  },
  {
   "cell_type": "markdown",
   "metadata": {},
   "source": [
    "### 1.3.2 在GPU上运行pytorch"
   ]
  },
  {
   "attachments": {
    "image.png": {
     "image/png": "[encoded data removed]"
    }
   },
   "cell_type": "markdown",
   "metadata": {},
   "source": [
    "![image.png](attachment:image.png)"
   ]
  },
  {
   "cell_type": "code",
   "execution_count": null,
   "metadata": {},
   "outputs": [],
   "source": []
  },
  {
   "cell_type": "code",
   "execution_count": null,
   "metadata": {},
   "outputs": [],
   "source": []
  },
  {
   "cell_type": "code",
   "execution_count": null,
   "metadata": {},
   "outputs": [],
   "source": []
  }
 ],
 "metadata": {
  "kernelspec": {
   "display_name": "Python [conda env:explore]",
   "language": "python",
   "name": "conda-env-explore-py"
  },
  "language_info": {
   "codemirror_mode": {
    "name": "ipython",
    "version": 3
   },
   "file_extension": ".py",
   "mimetype": "text/x-python",
   "name": "python",
   "nbconvert_exporter": "python",
   "pygments_lexer": "ipython3",
   "version": "3.6.4"
  }
 },
 "nbformat": 4,
 "nbformat_minor": 4
}
