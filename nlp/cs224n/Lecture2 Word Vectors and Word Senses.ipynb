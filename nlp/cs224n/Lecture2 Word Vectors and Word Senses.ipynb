{
 "cells": [
  {
   "cell_type": "markdown",
   "metadata": {},
   "source": [
    "[Lecture2 slice](http://web.stanford.edu/class/cs224n/slides/cs224n-2020-lecture02-wordvecs2.pdf)"
   ]
  },
  {
   "cell_type": "markdown",
   "metadata": {},
   "source": [
    "# skip-gram  \n",
    "\n",
    "nagative sampling 大体思想：训练一个二分类模型，训练数据来源，正例：中心词和上下文词，负例：中心词与随机选择的几个词，原始论文： “Distributed Representations of Words and Phrases and their Compositionality” (Mikolov et al. 2013)"
   ]
  },
  {
   "cell_type": "markdown",
   "metadata": {},
   "source": [
    "用SVD制作简单的词向量：  \n",
    "先构造词共现矩阵，然后对词共现矩阵进行SVD，取前K列，作为词向量。"
   ]
  },
  {
   "cell_type": "markdown",
   "metadata": {},
   "source": [
    "glove对比word2vec"
   ]
  }
 ],
 "metadata": {
  "kernelspec": {
   "display_name": "Python [conda env:explore]",
   "language": "python",
   "name": "conda-env-explore-py"
  },
  "language_info": {
   "codemirror_mode": {
    "name": "ipython",
    "version": 3
   },
   "file_extension": ".py",
   "mimetype": "text/x-python",
   "name": "python",
   "nbconvert_exporter": "python",
   "pygments_lexer": "ipython3",
   "version": "3.6.4"
  }
 },
 "nbformat": 4,
 "nbformat_minor": 4
}
