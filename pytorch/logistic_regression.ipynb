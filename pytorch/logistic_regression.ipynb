{
 "cells": [
  {
   "cell_type": "markdown",
   "metadata": {},
   "source": [
    "[参考代码](https://github.com/zergtant/pytorch-handbook/blob/master/chapter3/3.1-logistic-regression.ipynb)"
   ]
  },
  {
   "cell_type": "code",
   "execution_count": 1,
   "metadata": {},
   "outputs": [
    {
     "data": {
      "text/plain": [
       "'1.5.0'"
      ]
     },
     "execution_count": 1,
     "metadata": {},
     "output_type": "execute_result"
    }
   ],
   "source": [
    "import torch\n",
    "import torch.nn as nn\n",
    "import numpy as np\n",
    "torch.__version__"
   ]
  },
  {
   "cell_type": "code",
   "execution_count": 2,
   "metadata": {},
   "outputs": [],
   "source": [
    "data = np.loadtxt(\"data/german.data-numeric\")"
   ]
  },
  {
   "cell_type": "code",
   "execution_count": 3,
   "metadata": {},
   "outputs": [
    {
     "data": {
      "text/plain": [
       "(1000, 25)"
      ]
     },
     "execution_count": 3,
     "metadata": {},
     "output_type": "execute_result"
    }
   ],
   "source": [
    "data.shape"
   ]
  },
  {
   "cell_type": "code",
   "execution_count": 4,
   "metadata": {},
   "outputs": [
    {
     "data": {
      "text/plain": [
       "array([[ 1.,  6.,  4., 12.,  5.,  5.,  3.,  4.,  1., 67.,  3.,  2.,  1.,\n",
       "         2.,  1.,  0.,  0.,  1.,  0.,  0.,  1.,  0.,  0.,  1.,  1.],\n",
       "       [ 2., 48.,  2., 60.,  1.,  3.,  2.,  2.,  1., 22.,  3.,  1.,  1.,\n",
       "         1.,  1.,  0.,  0.,  1.,  0.,  0.,  1.,  0.,  0.,  1.,  2.]])"
      ]
     },
     "execution_count": 4,
     "metadata": {},
     "output_type": "execute_result"
    }
   ],
   "source": [
    "data[:2]"
   ]
  },
  {
   "cell_type": "code",
   "execution_count": 5,
   "metadata": {},
   "outputs": [],
   "source": [
    "n, l = data.shape"
   ]
  },
  {
   "cell_type": "code",
   "execution_count": null,
   "metadata": {},
   "outputs": [],
   "source": [
    "for j in range(l-1):\n",
    "    mean = np.mean(data[:, j])\n",
    "    std = np.std(data[:, j])\n",
    "    data[:, j] = (data:, j)"
   ]
  },
  {
   "cell_type": "code",
   "execution_count": 13,
   "metadata": {},
   "outputs": [],
   "source": [
    "mean = np.mean(data[:, :l-1], axis = 0)\n",
    "std = np.std(data[:, :l-1], axis = 0)"
   ]
  },
  {
   "cell_type": "code",
   "execution_count": 14,
   "metadata": {},
   "outputs": [],
   "source": [
    "data[:, :l-1] = (data[:, :l-1] - mean) / std"
   ]
  },
  {
   "cell_type": "code",
   "execution_count": 16,
   "metadata": {},
   "outputs": [
    {
     "data": {
      "text/plain": [
       "array([[-1.25456565, -1.23647786,  1.34401408, -0.73343195,  1.83316907,\n",
       "         1.33807849,  0.44932648,  1.04698668, -1.29372298,  2.76645648,\n",
       "         0.46083068,  1.02707891, -0.42828957,  1.21459768, -0.19601428,\n",
       "        -0.55270519, -0.33886163,  0.32021217, -0.20676767, -0.4669334 ,\n",
       "         0.63444822, -0.14998296, -0.5       ,  0.76635604,  1.        ],\n",
       "       [-0.45902624,  2.24819436, -0.50342796,  0.96637654, -0.69970702,\n",
       "        -0.31795924, -0.96364986, -0.76597727, -1.29372298, -1.19140394,\n",
       "         0.46083068, -0.704926  , -0.42828957, -0.82331789, -0.19601428,\n",
       "        -0.55270519, -0.33886163,  0.32021217, -0.20676767, -0.4669334 ,\n",
       "         0.63444822, -0.14998296, -0.5       ,  0.76635604,  2.        ]])"
      ]
     },
     "execution_count": 16,
     "metadata": {},
     "output_type": "execute_result"
    }
   ],
   "source": [
    "data[:2]"
   ]
  },
  {
   "cell_type": "code",
   "execution_count": 17,
   "metadata": {},
   "outputs": [],
   "source": [
    "train_data=data[:900,:l-1]\n",
    "train_lab=data[:900,l-1]-1\n",
    "test_data=data[900:,:l-1]\n",
    "test_lab=data[900:,l-1]-1"
   ]
  },
  {
   "cell_type": "code",
   "execution_count": 18,
   "metadata": {},
   "outputs": [],
   "source": [
    "class LR(nn.Module):\n",
    "    def __init__(self):\n",
    "        super(LR, self).__init__()\n",
    "        self.fc = nn.Linear(24, 2)\n",
    "    def forward(self, x):\n",
    "        out = self.fc(x)\n",
    "        out = torch.sigmoid(out)\n",
    "        return out"
   ]
  },
  {
   "cell_type": "code",
   "execution_count": 19,
   "metadata": {},
   "outputs": [],
   "source": [
    "def test(pred, lab):\n",
    "    t = pred.max(-1)[1] == lab\n",
    "    return torch.mean(t.float())"
   ]
  },
  {
   "cell_type": "code",
   "execution_count": 21,
   "metadata": {},
   "outputs": [],
   "source": [
    "net = LR()\n",
    "criterion = nn.CrossEntropyLoss()\n",
    "optm = torch.optim.Adam(net.parameters())\n",
    "epochs = 1000"
   ]
  },
  {
   "cell_type": "code",
   "execution_count": 22,
   "metadata": {},
   "outputs": [
    {
     "name": "stdout",
     "output_type": "stream",
     "text": [
      "100 0.6236632466316223 tensor(0.7300)\n",
      "200 0.6016103029251099 tensor(0.7300)\n",
      "300 0.5876175761222839 tensor(0.7300)\n",
      "400 0.5773628950119019 tensor(0.7300)\n",
      "500 0.5694364905357361 tensor(0.7500)\n",
      "600 0.5630984902381897 tensor(0.7600)\n",
      "700 0.557888925075531 tensor(0.7600)\n",
      "800 0.5535123944282532 tensor(0.7600)\n",
      "900 0.5497684478759766 tensor(0.7600)\n",
      "1000 0.5465208888053894 tensor(0.7600)\n"
     ]
    }
   ],
   "source": [
    "for i in range(epochs):\n",
    "    net.train()\n",
    "    x = torch.from_numpy(train_data).float()\n",
    "    y = torch.from_numpy(train_lab).long()\n",
    "    y_hat = net(x)\n",
    "    loss = criterion(y_hat, y)\n",
    "    optm.zero_grad()\n",
    "    loss.backward()\n",
    "    optm.step()\n",
    "    if (i+1) % 100 == 0:\n",
    "        net.eval()\n",
    "        test_in = torch.from_numpy(test_data).float()\n",
    "        test_l = torch.from_numpy(test_lab).long()\n",
    "        test_out = net(test_in)\n",
    "        accu = test(test_out, test_l)\n",
    "        print(i+1, loss.item(),accu)"
   ]
  },
  {
   "cell_type": "code",
   "execution_count": null,
   "metadata": {},
   "outputs": [],
   "source": []
  }
 ],
 "metadata": {
  "kernelspec": {
   "display_name": "Python [conda env:explore]",
   "language": "python",
   "name": "conda-env-explore-py"
  },
  "language_info": {
   "codemirror_mode": {
    "name": "ipython",
    "version": 3
   },
   "file_extension": ".py",
   "mimetype": "text/x-python",
   "name": "python",
   "nbconvert_exporter": "python",
   "pygments_lexer": "ipython3",
   "version": "3.6.4"
  }
 },
 "nbformat": 4,
 "nbformat_minor": 4
}
