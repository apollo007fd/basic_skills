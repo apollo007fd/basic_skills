{
 "cells": [
  {
   "cell_type": "markdown",
   "metadata": {},
   "source": [
    "#### git连接github账号"
   ]
  },
  {
   "cell_type": "markdown",
   "metadata": {},
   "source": [
    "#### 1.开始配置  \n",
    "使用以下命令即可:  \n",
    "git config --global user.name \"Your Name\"  \n",
    "git config --global user.email \"email@example.com\"  \n",
    "\n",
    "注意: \n",
    "git config命令的–global参数，用了这个参数，表示你这台机器上所有的 Git 仓库都会使用这个配置，当然也可以对某个仓库指定不同的用户名和 Email 地址(如需要, 可自行搜索)。\n",
    "使用git config --list可查看配置的相关信息, 出现以下信息, 则表明成功:  \n",
    "  \n",
    "[@xxxx basic_skills]# git config --list  \n",
    "user.name=xxxx  \n",
    "user.email=xxxx  \n",
    "core.repositoryformatversion=0  \n",
    "core.filemode=true  \n",
    "core.bare=false  \n",
    "core.logallrefupdates=true  \n",
    "remote.basic_skills.url=git@github.com:apollo007fd/basic_skills.git  \n",
    "remote.basic_skills.fetch=+refs/heads/*:refs/remotes/basic_skills/*  "
   ]
  },
  {
   "cell_type": "markdown",
   "metadata": {},
   "source": [
    "#### 2. 连接github\n",
    "ssh-keygen -t rsa -C \"email@example.com\"   \n",
    "  \n",
    "三次回车即可生成 ssh key, 这里的邮箱最好填和刚才一样的  \n",
    "然后用文本编辑器(如notepad)打开id_rsa.pub这个文件, 全选复制."
   ]
  },
  {
   "cell_type": "markdown",
   "metadata": {},
   "source": [
    "接下来来到github，打开Settings/SSH and GPG keys/New SSH Key，将刚才复制的内容粘贴到Key中，Title随便填一个，点Add SSH Key"
   ]
  },
  {
   "cell_type": "markdown",
   "metadata": {},
   "source": [
    "#### 3. 确认连接成功"
   ]
  },
  {
   "cell_type": "markdown",
   "metadata": {},
   "source": [
    "在本地机器，linux上打开shell， windows上用Git bash， 输入ssh -T git@github.com, 如果有需要确认，输入yes，最后如果连接成功，会出现这段话：  \n",
    "  \n",
    "[@xxx_xxx]# ssh -T git@github.com   \n",
    "The authenticity of host 'github.com (xxx)' can't be established.  \n",
    "RSA key fingerprint is xxx.  \n",
    "Are you sure you want to continue connecting (yes/no)? yes  \n",
    "Warning: Permanently added 'github.com,xxx' (RSA) to the list of known hosts.  \n",
    "Hi xxx! You've successfully authenticated, but GitHub does not provide shell access.  "
   ]
  },
  {
   "cell_type": "markdown",
   "metadata": {},
   "source": [
    "#### 4.提交本地仓库到远程仓库"
   ]
  },
  {
   "cell_type": "markdown",
   "metadata": {},
   "source": [
    "4.1 在本地创建git仓库文件夹，初始化本地git仓库，加入想要提交到github远程仓库的文件,将文件添加到git仓库，提交修改:  \n",
    "mkdir basic_skills  \n",
    "git init  \n",
    "git add git_basics.ipynb   \n",
    "git commit -m \"add first file\"  \n",
    "\n",
    "4.2 然后把修改推送到远程代码仓库(github仓库)：  \n",
    "如果本地git仓库同名的项目在github下不存在，需要先创建名为basic_skills的github仓库  \n",
    "然后为该仓库取别名，推送本地修改到github仓库：  \n",
    "git remote add origin git@github.com:apollo007fd/basic_skills.git ##添加远程仓库，origin只是一个远程仓库的别名，可以随意取  \n",
    "git push -u origin master ##将本地仓库push远程仓库，并将origin设为默认远程仓库  \n",
    "  \n",
    "4.3 修改一个文件后再次提交：  \n",
    "修改文件  \n",
    "git status  \n",
    "git add filename  \n",
    "git push -u origin master  "
   ]
  },
  {
   "attachments": {
    "image.png": {
     "image/png": "[encoded data removed]"
    }
   },
   "cell_type": "markdown",
   "metadata": {},
   "source": [
    "![image.png](attachment:image.png)"
   ]
  },
  {
   "cell_type": "code",
   "execution_count": null,
   "metadata": {},
   "outputs": [],
   "source": []
  }
 ],
 "metadata": {
  "kernelspec": {
   "display_name": "Python [conda env:explore]",
   "language": "python",
   "name": "conda-env-explore-py"
  },
  "language_info": {
   "codemirror_mode": {
    "name": "ipython",
    "version": 3
   },
   "file_extension": ".py",
   "mimetype": "text/x-python",
   "name": "python",
   "nbconvert_exporter": "python",
   "pygments_lexer": "ipython3",
   "version": "3.6.4"
  }
 },
 "nbformat": 4,
 "nbformat_minor": 4
}
